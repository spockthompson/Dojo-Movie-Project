{
 "cells": [
  {
   "cell_type": "markdown",
   "id": "0f9d4414",
   "metadata": {},
   "source": [
    "# Hypothesis Testing\n",
    "- we will be using our MySQL database from part 3 to answer meaningful questions for our stakeholder. They want you to use our hypothesis testing and statistics knowledge to answer 3 questions about what makes a successful movie."
   ]
  },
  {
   "cell_type": "markdown",
   "id": "7f21192c",
   "metadata": {},
   "source": [
    "## Questions to Answer\n",
    "1. The stakeholder's first question is: does the MPAA rating of a movie (G/PG/PG-13/R) affect how much revenue the movie generates?\n",
    "\n",
    "- They want you to perform a statistical test to get a mathematically-supported answer.\n",
    "They want you to report if you found a significant difference between ratings.\n",
    "If so, what was the p-value of your analysis?\n",
    "And which rating earns the most revenue?\n",
    "They want you to prepare a visualization that supports your finding.\n",
    "It is then up to you to think of 2 additional hypotheses to test that your stakeholder may want to know.\n",
    "\n",
    "Some example hypotheses we could test:\n",
    "\n",
    "1. Do movies that are over 2.5 hours long earn more revenue than movies that are 1.5 hours long (or less)?\n",
    "2. Do movies released in 2020 earn less revenue than movies released in 2018?\n",
    "3. How do the years compare for movie ratings?\n",
    "4. Do some movie genres earn more revenue than others?\n",
    "5. Are some genres higher rated than others?\n",
    "etc."
   ]
  },
  {
   "cell_type": "code",
   "execution_count": 1,
   "id": "06151f9f",
   "metadata": {},
   "outputs": [],
   "source": [
    "import pandas as pd\n",
    "import numpy as np\n",
    "import matplotlib.pyplot as plt\n",
    "import seaborn as sns\n",
    "\n",
    "from scipy import stats\n",
    "import scipy"
   ]
  },
  {
   "cell_type": "markdown",
   "id": "5b621e0a",
   "metadata": {},
   "source": [
    "# Question 1.\n",
    "1.) Does the MPAA rating of a movie (G/PG/PG-13/R) affect how much revenue the movie generates?\n",
    "- Null hypothesis: The rating of a movie does not affect the revenue that it makes.\n",
    "- Alternate hypothesis: The rating of a movie potentially affects the amount of revenue that it makes.\n",
    " - Reject\" the null hypothesis OR \"Fail to reject\" the null hypothesis.\n"
   ]
  },
  {
   "cell_type": "markdown",
   "id": "00d27fa0",
   "metadata": {},
   "source": [
    "- Determine the correct test to perform.\n",
    "- Type of Data? numeric\n",
    "- How many groups/samples? 6\n",
    "- Therefore, which test is appropriate? ANOVA and/or Tukey"
   ]
  },
  {
   "cell_type": "code",
   "execution_count": 2,
   "id": "571aaab9",
   "metadata": {
    "scrolled": true
   },
   "outputs": [
    {
     "data": {
      "text/html": [
       "<div>\n",
       "<style scoped>\n",
       "    .dataframe tbody tr th:only-of-type {\n",
       "        vertical-align: middle;\n",
       "    }\n",
       "\n",
       "    .dataframe tbody tr th {\n",
       "        vertical-align: top;\n",
       "    }\n",
       "\n",
       "    .dataframe thead th {\n",
       "        text-align: right;\n",
       "    }\n",
       "</style>\n",
       "<table border=\"1\" class=\"dataframe\">\n",
       "  <thead>\n",
       "    <tr style=\"text-align: right;\">\n",
       "      <th></th>\n",
       "      <th>imdb_id</th>\n",
       "      <th>adult</th>\n",
       "      <th>belongs_to_collection</th>\n",
       "      <th>budget</th>\n",
       "      <th>popularity</th>\n",
       "      <th>revenue</th>\n",
       "      <th>runtime</th>\n",
       "      <th>title</th>\n",
       "      <th>vote_average</th>\n",
       "      <th>vote_count</th>\n",
       "      <th>...</th>\n",
       "      <th>Genre_Horror</th>\n",
       "      <th>Genre_Fantasy</th>\n",
       "      <th>Genre_History</th>\n",
       "      <th>Genre_Western</th>\n",
       "      <th>Genre_Music</th>\n",
       "      <th>Genre_Documentary</th>\n",
       "      <th>Genre_TV Movie</th>\n",
       "      <th>Year</th>\n",
       "      <th>Month</th>\n",
       "      <th>Day</th>\n",
       "    </tr>\n",
       "  </thead>\n",
       "  <tbody>\n",
       "    <tr>\n",
       "      <th>0</th>\n",
       "      <td>tt0312305</td>\n",
       "      <td>0.0</td>\n",
       "      <td>False</td>\n",
       "      <td>0.0</td>\n",
       "      <td>2.769</td>\n",
       "      <td>0.0</td>\n",
       "      <td>45.0</td>\n",
       "      <td>Quantum Quest: A Cassini Space Odyssey</td>\n",
       "      <td>8.4</td>\n",
       "      <td>7.0</td>\n",
       "      <td>...</td>\n",
       "      <td>False</td>\n",
       "      <td>False</td>\n",
       "      <td>False</td>\n",
       "      <td>False</td>\n",
       "      <td>False</td>\n",
       "      <td>False</td>\n",
       "      <td>False</td>\n",
       "      <td>2012.0</td>\n",
       "      <td>12.0</td>\n",
       "      <td>2.0</td>\n",
       "    </tr>\n",
       "    <tr>\n",
       "      <th>1</th>\n",
       "      <td>tt0326965</td>\n",
       "      <td>0.0</td>\n",
       "      <td>False</td>\n",
       "      <td>0.0</td>\n",
       "      <td>6.120</td>\n",
       "      <td>0.0</td>\n",
       "      <td>90.0</td>\n",
       "      <td>In My Sleep</td>\n",
       "      <td>5.5</td>\n",
       "      <td>31.0</td>\n",
       "      <td>...</td>\n",
       "      <td>False</td>\n",
       "      <td>False</td>\n",
       "      <td>False</td>\n",
       "      <td>False</td>\n",
       "      <td>False</td>\n",
       "      <td>False</td>\n",
       "      <td>False</td>\n",
       "      <td>2010.0</td>\n",
       "      <td>4.0</td>\n",
       "      <td>23.0</td>\n",
       "    </tr>\n",
       "    <tr>\n",
       "      <th>2</th>\n",
       "      <td>tt0331312</td>\n",
       "      <td>0.0</td>\n",
       "      <td>False</td>\n",
       "      <td>0.0</td>\n",
       "      <td>0.600</td>\n",
       "      <td>0.0</td>\n",
       "      <td>0.0</td>\n",
       "      <td>This Wretched Life</td>\n",
       "      <td>5.0</td>\n",
       "      <td>1.0</td>\n",
       "      <td>...</td>\n",
       "      <td>False</td>\n",
       "      <td>False</td>\n",
       "      <td>False</td>\n",
       "      <td>False</td>\n",
       "      <td>False</td>\n",
       "      <td>False</td>\n",
       "      <td>False</td>\n",
       "      <td>2010.0</td>\n",
       "      <td>1.0</td>\n",
       "      <td>1.0</td>\n",
       "    </tr>\n",
       "    <tr>\n",
       "      <th>3</th>\n",
       "      <td>tt0393049</td>\n",
       "      <td>0.0</td>\n",
       "      <td>False</td>\n",
       "      <td>300000.0</td>\n",
       "      <td>2.418</td>\n",
       "      <td>0.0</td>\n",
       "      <td>98.0</td>\n",
       "      <td>Anderson's Cross</td>\n",
       "      <td>4.0</td>\n",
       "      <td>5.0</td>\n",
       "      <td>...</td>\n",
       "      <td>False</td>\n",
       "      <td>False</td>\n",
       "      <td>False</td>\n",
       "      <td>False</td>\n",
       "      <td>False</td>\n",
       "      <td>False</td>\n",
       "      <td>False</td>\n",
       "      <td>2010.0</td>\n",
       "      <td>5.0</td>\n",
       "      <td>20.0</td>\n",
       "    </tr>\n",
       "    <tr>\n",
       "      <th>4</th>\n",
       "      <td>tt0398286</td>\n",
       "      <td>0.0</td>\n",
       "      <td>False</td>\n",
       "      <td>260000000.0</td>\n",
       "      <td>119.168</td>\n",
       "      <td>592461732.0</td>\n",
       "      <td>100.0</td>\n",
       "      <td>Tangled</td>\n",
       "      <td>7.6</td>\n",
       "      <td>9364.0</td>\n",
       "      <td>...</td>\n",
       "      <td>False</td>\n",
       "      <td>False</td>\n",
       "      <td>False</td>\n",
       "      <td>False</td>\n",
       "      <td>False</td>\n",
       "      <td>False</td>\n",
       "      <td>False</td>\n",
       "      <td>2010.0</td>\n",
       "      <td>11.0</td>\n",
       "      <td>24.0</td>\n",
       "    </tr>\n",
       "  </tbody>\n",
       "</table>\n",
       "<p>5 rows × 33 columns</p>\n",
       "</div>"
      ],
      "text/plain": [
       "     imdb_id  adult  belongs_to_collection       budget  popularity  \\\n",
       "0  tt0312305    0.0                  False          0.0       2.769   \n",
       "1  tt0326965    0.0                  False          0.0       6.120   \n",
       "2  tt0331312    0.0                  False          0.0       0.600   \n",
       "3  tt0393049    0.0                  False     300000.0       2.418   \n",
       "4  tt0398286    0.0                  False  260000000.0     119.168   \n",
       "\n",
       "       revenue  runtime                                   title  vote_average  \\\n",
       "0          0.0     45.0  Quantum Quest: A Cassini Space Odyssey           8.4   \n",
       "1          0.0     90.0                             In My Sleep           5.5   \n",
       "2          0.0      0.0                      This Wretched Life           5.0   \n",
       "3          0.0     98.0                        Anderson's Cross           4.0   \n",
       "4  592461732.0    100.0                                 Tangled           7.6   \n",
       "\n",
       "   vote_count  ... Genre_Horror  Genre_Fantasy  Genre_History  Genre_Western  \\\n",
       "0         7.0  ...        False          False          False          False   \n",
       "1        31.0  ...        False          False          False          False   \n",
       "2         1.0  ...        False          False          False          False   \n",
       "3         5.0  ...        False          False          False          False   \n",
       "4      9364.0  ...        False          False          False          False   \n",
       "\n",
       "   Genre_Music  Genre_Documentary  Genre_TV Movie    Year  Month   Day  \n",
       "0        False              False           False  2012.0   12.0   2.0  \n",
       "1        False              False           False  2010.0    4.0  23.0  \n",
       "2        False              False           False  2010.0    1.0   1.0  \n",
       "3        False              False           False  2010.0    5.0  20.0  \n",
       "4        False              False           False  2010.0   11.0  24.0  \n",
       "\n",
       "[5 rows x 33 columns]"
      ]
     },
     "execution_count": 2,
     "metadata": {},
     "output_type": "execute_result"
    }
   ],
   "source": [
    "df= pd.read_csv(\"Data/cleaned_movie_info_all.csv.gz\", low_memory=False)\n",
    "df.head()"
   ]
  },
  {
   "cell_type": "code",
   "execution_count": 3,
   "id": "986b9ae0",
   "metadata": {},
   "outputs": [],
   "source": [
    "df.dropna(inplace=True)"
   ]
  },
  {
   "cell_type": "code",
   "execution_count": 4,
   "id": "e906bc95",
   "metadata": {
    "scrolled": true
   },
   "outputs": [
    {
     "data": {
      "text/plain": [
       "R        6090\n",
       "NR       3263\n",
       "PG-13    3220\n",
       "PG       1431\n",
       "G         441\n",
       "NC-17     155\n",
       "Name: certification, dtype: int64"
      ]
     },
     "execution_count": 4,
     "metadata": {},
     "output_type": "execute_result"
    }
   ],
   "source": [
    "df['certification'].value_counts()"
   ]
  },
  {
   "cell_type": "code",
   "execution_count": 5,
   "id": "7e6ae053",
   "metadata": {},
   "outputs": [
    {
     "data": {
      "image/png": "[encoded data removed]",
      "text/plain": [
       "<Figure size 640x480 with 1 Axes>"
      ]
     },
     "metadata": {},
     "output_type": "display_data"
    }
   ],
   "source": [
    "sns.barplot(data=df, x='certification',y='revenue');"
   ]
  },
  {
   "cell_type": "code",
   "execution_count": 6,
   "id": "572c9f2d",
   "metadata": {},
   "outputs": [
    {
     "data": {
      "text/plain": [
       "dict_keys(['PG-13', 'PG', 'R', 'NR', 'G', 'NC-17'])"
      ]
     },
     "execution_count": 6,
     "metadata": {},
     "output_type": "execute_result"
    }
   ],
   "source": [
    "## Create groups dictionary. There are only 3 groups, but this is even more helpful when there are many groups\n",
    "groups = {}\n",
    "## Loop through all unique categories\n",
    "for i in df['certification'].unique():\n",
    "    ## Get series for group and rename\n",
    "    data = df.loc[df['certification']==i,'revenue'].copy()\n",
    "    \n",
    "    # save into the dictionary\n",
    "    groups[i] = data\n",
    "groups.keys()"
   ]
  },
  {
   "cell_type": "code",
   "execution_count": 7,
   "id": "adc6d40a",
   "metadata": {},
   "outputs": [
    {
     "data": {
      "text/html": [
       "<div>\n",
       "<style scoped>\n",
       "    .dataframe tbody tr th:only-of-type {\n",
       "        vertical-align: middle;\n",
       "    }\n",
       "\n",
       "    .dataframe tbody tr th {\n",
       "        vertical-align: top;\n",
       "    }\n",
       "\n",
       "    .dataframe thead th {\n",
       "        text-align: right;\n",
       "    }\n",
       "</style>\n",
       "<table border=\"1\" class=\"dataframe\">\n",
       "  <thead>\n",
       "    <tr style=\"text-align: right;\">\n",
       "      <th></th>\n",
       "      <th>n</th>\n",
       "      <th>p</th>\n",
       "      <th>test stat</th>\n",
       "    </tr>\n",
       "  </thead>\n",
       "  <tbody>\n",
       "    <tr>\n",
       "      <th>PG-13</th>\n",
       "      <td>3220.0</td>\n",
       "      <td>0.000000e+00</td>\n",
       "      <td>3518.016905</td>\n",
       "    </tr>\n",
       "    <tr>\n",
       "      <th>PG</th>\n",
       "      <td>1431.0</td>\n",
       "      <td>4.480376e-270</td>\n",
       "      <td>1240.396536</td>\n",
       "    </tr>\n",
       "    <tr>\n",
       "      <th>R</th>\n",
       "      <td>6090.0</td>\n",
       "      <td>0.000000e+00</td>\n",
       "      <td>7603.954647</td>\n",
       "    </tr>\n",
       "    <tr>\n",
       "      <th>NR</th>\n",
       "      <td>3263.0</td>\n",
       "      <td>0.000000e+00</td>\n",
       "      <td>7089.300242</td>\n",
       "    </tr>\n",
       "    <tr>\n",
       "      <th>G</th>\n",
       "      <td>441.0</td>\n",
       "      <td>3.125544e-112</td>\n",
       "      <td>513.499844</td>\n",
       "    </tr>\n",
       "    <tr>\n",
       "      <th>NC-17</th>\n",
       "      <td>155.0</td>\n",
       "      <td>8.690936e-59</td>\n",
       "      <td>267.380480</td>\n",
       "    </tr>\n",
       "  </tbody>\n",
       "</table>\n",
       "</div>"
      ],
      "text/plain": [
       "            n              p    test stat\n",
       "PG-13  3220.0   0.000000e+00  3518.016905\n",
       "PG     1431.0  4.480376e-270  1240.396536\n",
       "R      6090.0   0.000000e+00  7603.954647\n",
       "NR     3263.0   0.000000e+00  7089.300242\n",
       "G       441.0  3.125544e-112   513.499844\n",
       "NC-17   155.0   8.690936e-59   267.380480"
      ]
     },
     "execution_count": 7,
     "metadata": {},
     "output_type": "execute_result"
    }
   ],
   "source": [
    "## Running normal test on each group and confirming there are >20 in each group\n",
    "norm_results = {}\n",
    "for i, data in groups.items():\n",
    "    stat, p = stats.normaltest(data)\n",
    "    ## save the p val, test statistic, and the size of the group\n",
    "    norm_results[i] = {'n': len(data),\n",
    "                             'p':p,\n",
    "                             'test stat':stat,}\n",
    "## convert to a dataframe\n",
    "norm_results_df = pd.DataFrame(norm_results).T\n",
    "norm_results_df"
   ]
  },
  {
   "cell_type": "code",
   "execution_count": 8,
   "id": "e37da44e",
   "metadata": {},
   "outputs": [
    {
     "data": {
      "text/html": [
       "<div>\n",
       "<style scoped>\n",
       "    .dataframe tbody tr th:only-of-type {\n",
       "        vertical-align: middle;\n",
       "    }\n",
       "\n",
       "    .dataframe tbody tr th {\n",
       "        vertical-align: top;\n",
       "    }\n",
       "\n",
       "    .dataframe thead th {\n",
       "        text-align: right;\n",
       "    }\n",
       "</style>\n",
       "<table border=\"1\" class=\"dataframe\">\n",
       "  <thead>\n",
       "    <tr style=\"text-align: right;\">\n",
       "      <th></th>\n",
       "      <th>n</th>\n",
       "      <th>p</th>\n",
       "      <th>test stat</th>\n",
       "      <th>sig</th>\n",
       "    </tr>\n",
       "  </thead>\n",
       "  <tbody>\n",
       "    <tr>\n",
       "      <th>PG-13</th>\n",
       "      <td>3220.0</td>\n",
       "      <td>0.000000e+00</td>\n",
       "      <td>3518.016905</td>\n",
       "      <td>True</td>\n",
       "    </tr>\n",
       "    <tr>\n",
       "      <th>PG</th>\n",
       "      <td>1431.0</td>\n",
       "      <td>4.480376e-270</td>\n",
       "      <td>1240.396536</td>\n",
       "      <td>True</td>\n",
       "    </tr>\n",
       "    <tr>\n",
       "      <th>R</th>\n",
       "      <td>6090.0</td>\n",
       "      <td>0.000000e+00</td>\n",
       "      <td>7603.954647</td>\n",
       "      <td>True</td>\n",
       "    </tr>\n",
       "    <tr>\n",
       "      <th>NR</th>\n",
       "      <td>3263.0</td>\n",
       "      <td>0.000000e+00</td>\n",
       "      <td>7089.300242</td>\n",
       "      <td>True</td>\n",
       "    </tr>\n",
       "    <tr>\n",
       "      <th>G</th>\n",
       "      <td>441.0</td>\n",
       "      <td>3.125544e-112</td>\n",
       "      <td>513.499844</td>\n",
       "      <td>True</td>\n",
       "    </tr>\n",
       "    <tr>\n",
       "      <th>NC-17</th>\n",
       "      <td>155.0</td>\n",
       "      <td>8.690936e-59</td>\n",
       "      <td>267.380480</td>\n",
       "      <td>True</td>\n",
       "    </tr>\n",
       "  </tbody>\n",
       "</table>\n",
       "</div>"
      ],
      "text/plain": [
       "            n              p    test stat   sig\n",
       "PG-13  3220.0   0.000000e+00  3518.016905  True\n",
       "PG     1431.0  4.480376e-270  1240.396536  True\n",
       "R      6090.0   0.000000e+00  7603.954647  True\n",
       "NR     3263.0   0.000000e+00  7089.300242  True\n",
       "G       441.0  3.125544e-112   513.499844  True\n",
       "NC-17   155.0   8.690936e-59   267.380480  True"
      ]
     },
     "execution_count": 8,
     "metadata": {},
     "output_type": "execute_result"
    }
   ],
   "source": [
    "### checking sig with pandas \n",
    "norm_results_df['sig'] = norm_results_df['p'] < .05 \n",
    "norm_results_df"
   ]
  },
  {
   "cell_type": "code",
   "execution_count": 9,
   "id": "74e21794",
   "metadata": {},
   "outputs": [
    {
     "data": {
      "text/plain": [
       "LeveneResult(statistic=180.89147160707088, pvalue=1.849133512952147e-187)"
      ]
     },
     "execution_count": 9,
     "metadata": {},
     "output_type": "execute_result"
    }
   ],
   "source": [
    "# Test for Equal Variance\n",
    "# with the * operator \n",
    "stats.levene(*groups.values())"
   ]
  },
  {
   "cell_type": "code",
   "execution_count": 10,
   "id": "ae4b6ff6",
   "metadata": {},
   "outputs": [
    {
     "data": {
      "text/plain": [
       "F_onewayResult(statistic=180.7559460210055, pvalue=2.541385643831967e-187)"
      ]
     },
     "execution_count": 10,
     "metadata": {},
     "output_type": "execute_result"
    }
   ],
   "source": [
    "# perform the correct hypothesis test\n",
    "# note again the use of the * operator for convenience\n",
    "result = stats.f_oneway( *groups.values())\n",
    "result"
   ]
  },
  {
   "cell_type": "code",
   "execution_count": 11,
   "id": "fa95c8a5",
   "metadata": {},
   "outputs": [],
   "source": [
    "from statsmodels.stats.multicomp import pairwise_tukeyhsd\n",
    "## save the values as kg_lost and the labels to the Diet\n",
    "values = df['revenue']\n",
    "labels = df['certification']"
   ]
  },
  {
   "cell_type": "code",
   "execution_count": 12,
   "id": "2e251433",
   "metadata": {
    "scrolled": true
   },
   "outputs": [
    {
     "data": {
      "text/html": [
       "<table class=\"simpletable\">\n",
       "<caption>Multiple Comparison of Means - Tukey HSD, FWER=0.05</caption>\n",
       "<tr>\n",
       "  <th>group1</th> <th>group2</th>    <th>meandiff</th>     <th>p-adj</th>      <th>lower</th>          <th>upper</th>     <th>reject</th>\n",
       "</tr>\n",
       "<tr>\n",
       "     <td>G</td>    <td>NC-17</td> <td>-33853666.4924</td> <td>0.0202</td> <td>-64460201.3835</td>  <td>-3247131.6012</td>  <td>True</td> \n",
       "</tr>\n",
       "<tr>\n",
       "     <td>G</td>     <td>NR</td>   <td>-33150685.8772</td>   <td>0.0</td>  <td>-49780363.6907</td> <td>-16521008.0637</td>  <td>True</td> \n",
       "</tr>\n",
       "<tr>\n",
       "     <td>G</td>     <td>PG</td>    <td>33483807.4712</td>   <td>0.0</td>   <td>15631679.6219</td>  <td>51335935.3204</td>  <td>True</td> \n",
       "</tr>\n",
       "<tr>\n",
       "     <td>G</td>    <td>PG-13</td>  <td>38099463.0928</td>   <td>0.0</td>   <td>21456570.4514</td>  <td>54742355.7343</td>  <td>True</td> \n",
       "</tr>\n",
       "<tr>\n",
       "     <td>G</td>      <td>R</td>   <td>-18712364.7296</td> <td>0.0125</td> <td>-34875964.1422</td>  <td>-2548765.317</td>   <td>True</td> \n",
       "</tr>\n",
       "<tr>\n",
       "   <td>NC-17</td>   <td>NR</td>     <td>702980.6152</td>    <td>1.0</td>  <td>-26242617.0596</td>  <td>27648578.2899</td>  <td>False</td>\n",
       "</tr>\n",
       "<tr>\n",
       "   <td>NC-17</td>   <td>PG</td>    <td>67337473.9635</td>   <td>0.0</td>   <td>39620736.8068</td>  <td>95054211.1202</td>  <td>True</td> \n",
       "</tr>\n",
       "<tr>\n",
       "   <td>NC-17</td>  <td>PG-13</td>  <td>71953129.5852</td>   <td>0.0</td>   <td>44999374.2746</td>  <td>98906884.8958</td>  <td>True</td> \n",
       "</tr>\n",
       "<tr>\n",
       "   <td>NC-17</td>    <td>R</td>    <td>15141301.7628</td> <td>0.5861</td>  <td>-11519174.524</td>  <td>41801778.0496</td>  <td>False</td>\n",
       "</tr>\n",
       "<tr>\n",
       "    <td>NR</td>     <td>PG</td>    <td>66634493.3484</td>   <td>0.0</td>   <td>56242009.2974</td>  <td>77026977.3993</td>  <td>True</td> \n",
       "</tr>\n",
       "<tr>\n",
       "    <td>NR</td>    <td>PG-13</td>   <td>71250148.97</td>    <td>0.0</td>   <td>63108212.3774</td>  <td>79392085.5627</td>  <td>True</td> \n",
       "</tr>\n",
       "<tr>\n",
       "    <td>NR</td>      <td>R</td>    <td>14438321.1476</td>   <td>0.0</td>   <td>7327259.2033</td>   <td>21549383.0919</td>  <td>True</td> \n",
       "</tr>\n",
       "<tr>\n",
       "    <td>PG</td>    <td>PG-13</td>  <td>4615655.6217</td>  <td>0.8051</td>  <td>-5797961.2352</td>  <td>15029272.4786</td>  <td>False</td>\n",
       "</tr>\n",
       "<tr>\n",
       "    <td>PG</td>      <td>R</td>   <td>-52196172.2008</td>   <td>0.0</td>  <td>-61825268.0326</td> <td>-42567076.3689</td>  <td>True</td> \n",
       "</tr>\n",
       "<tr>\n",
       "   <td>PG-13</td>    <td>R</td>   <td>-56811827.8224</td>   <td>0.0</td>   <td>-63953738.86</td>  <td>-49669916.7849</td>  <td>True</td> \n",
       "</tr>\n",
       "</table>"
      ],
      "text/plain": [
       "<class 'statsmodels.iolib.table.SimpleTable'>"
      ]
     },
     "execution_count": 12,
     "metadata": {},
     "output_type": "execute_result"
    }
   ],
   "source": [
    "## perform tukey's multiple comparison test and display the summary\n",
    "tukeys_results = pairwise_tukeyhsd(values,labels)\n",
    "tukeys_results.summary()"
   ]
  },
  {
   "cell_type": "markdown",
   "id": "cfb143a0",
   "metadata": {},
   "source": [
    "Final Conclusion: p<alpha for the majority of the final test. We reject the null hypothesis and support the alternative hypothesis The rating of a movie potentially affects the amount of revenue that it makes."
   ]
  },
  {
   "cell_type": "code",
   "execution_count": null,
   "id": "70a6d15a",
   "metadata": {},
   "outputs": [],
   "source": [
    "ax = sns.histplot(data=df, x='revenue', hue='certification')\n",
    "ax.set_title(\"Revenue based on certification\");"
   ]
  },
  {
   "cell_type": "markdown",
   "id": "6d6d7427",
   "metadata": {},
   "source": [
    "# Question 2:\n",
    "2. How do the years compare for movie ratings?\n",
    "- Null hypothesis: The year a movie does not affect the MPAA Rating.\n",
    "- Alternate hypothesis: The year a movie affects the MPAA Rating.\n",
    " - Reject\" the null hypothesis OR \"Fail to reject\" the null hypothesis.\n"
   ]
  },
  {
   "cell_type": "markdown",
   "id": "c38396b6",
   "metadata": {},
   "source": [
    "- Determine the correct test to perform.\n",
    "- Type of Data? numeric\n",
    "- How many groups/samples? 6\n",
    "- Therefore, which test is appropriate? ANOVA and/or Tukey"
   ]
  },
  {
   "cell_type": "code",
   "execution_count": 14,
   "id": "e4f2feb2",
   "metadata": {},
   "outputs": [
    {
     "data": {
      "text/plain": [
       "dict_keys(['PG-13', 'PG', 'R', 'NR', 'G', 'NC-17'])"
      ]
     },
     "execution_count": 14,
     "metadata": {},
     "output_type": "execute_result"
    }
   ],
   "source": [
    "## Create groups dictionary. There are only 3 groups, but this is even more helpful when there are many groups\n",
    "groups = {}\n",
    "## Loop through all unique categories\n",
    "for i in df['certification'].unique():\n",
    "    ## Get series for group and rename\n",
    "    data = df.loc[df['certification']==i,'Year'].copy()\n",
    "    \n",
    "    # save into the dictionary\n",
    "    groups[i] = data\n",
    "groups.keys()"
   ]
  },
  {
   "cell_type": "code",
   "execution_count": 15,
   "id": "55583ef4",
   "metadata": {},
   "outputs": [
    {
     "data": {
      "text/html": [
       "<div>\n",
       "<style scoped>\n",
       "    .dataframe tbody tr th:only-of-type {\n",
       "        vertical-align: middle;\n",
       "    }\n",
       "\n",
       "    .dataframe tbody tr th {\n",
       "        vertical-align: top;\n",
       "    }\n",
       "\n",
       "    .dataframe thead th {\n",
       "        text-align: right;\n",
       "    }\n",
       "</style>\n",
       "<table border=\"1\" class=\"dataframe\">\n",
       "  <thead>\n",
       "    <tr style=\"text-align: right;\">\n",
       "      <th></th>\n",
       "      <th>n</th>\n",
       "      <th>p</th>\n",
       "      <th>test stat</th>\n",
       "    </tr>\n",
       "  </thead>\n",
       "  <tbody>\n",
       "    <tr>\n",
       "      <th>PG-13</th>\n",
       "      <td>3220.0</td>\n",
       "      <td>7.771236e-178</td>\n",
       "      <td>815.619435</td>\n",
       "    </tr>\n",
       "    <tr>\n",
       "      <th>PG</th>\n",
       "      <td>1431.0</td>\n",
       "      <td>2.930413e-21</td>\n",
       "      <td>94.558287</td>\n",
       "    </tr>\n",
       "    <tr>\n",
       "      <th>R</th>\n",
       "      <td>6090.0</td>\n",
       "      <td>0.000000e+00</td>\n",
       "      <td>1828.656935</td>\n",
       "    </tr>\n",
       "    <tr>\n",
       "      <th>NR</th>\n",
       "      <td>3263.0</td>\n",
       "      <td>2.338587e-43</td>\n",
       "      <td>196.323224</td>\n",
       "    </tr>\n",
       "    <tr>\n",
       "      <th>G</th>\n",
       "      <td>441.0</td>\n",
       "      <td>3.545863e-05</td>\n",
       "      <td>20.494288</td>\n",
       "    </tr>\n",
       "    <tr>\n",
       "      <th>NC-17</th>\n",
       "      <td>155.0</td>\n",
       "      <td>6.220999e-03</td>\n",
       "      <td>10.159649</td>\n",
       "    </tr>\n",
       "  </tbody>\n",
       "</table>\n",
       "</div>"
      ],
      "text/plain": [
       "            n              p    test stat\n",
       "PG-13  3220.0  7.771236e-178   815.619435\n",
       "PG     1431.0   2.930413e-21    94.558287\n",
       "R      6090.0   0.000000e+00  1828.656935\n",
       "NR     3263.0   2.338587e-43   196.323224\n",
       "G       441.0   3.545863e-05    20.494288\n",
       "NC-17   155.0   6.220999e-03    10.159649"
      ]
     },
     "execution_count": 15,
     "metadata": {},
     "output_type": "execute_result"
    }
   ],
   "source": [
    "## Running normal test on each group and confirming there are >20 in each group\n",
    "norm_results = {}\n",
    "for i, data in groups.items():\n",
    "    stat, p = stats.normaltest(data)\n",
    "    ## save the p val, test statistic, and the size of the group\n",
    "    norm_results[i] = {'n': len(data),\n",
    "                             'p':p,\n",
    "                             'test stat':stat,}\n",
    "## convert to a dataframe\n",
    "norm_results_df = pd.DataFrame(norm_results).T\n",
    "norm_results_df"
   ]
  },
  {
   "cell_type": "code",
   "execution_count": 16,
   "id": "29f10a78",
   "metadata": {},
   "outputs": [
    {
     "data": {
      "text/html": [
       "<div>\n",
       "<style scoped>\n",
       "    .dataframe tbody tr th:only-of-type {\n",
       "        vertical-align: middle;\n",
       "    }\n",
       "\n",
       "    .dataframe tbody tr th {\n",
       "        vertical-align: top;\n",
       "    }\n",
       "\n",
       "    .dataframe thead th {\n",
       "        text-align: right;\n",
       "    }\n",
       "</style>\n",
       "<table border=\"1\" class=\"dataframe\">\n",
       "  <thead>\n",
       "    <tr style=\"text-align: right;\">\n",
       "      <th></th>\n",
       "      <th>n</th>\n",
       "      <th>p</th>\n",
       "      <th>test stat</th>\n",
       "      <th>sig</th>\n",
       "    </tr>\n",
       "  </thead>\n",
       "  <tbody>\n",
       "    <tr>\n",
       "      <th>PG-13</th>\n",
       "      <td>3220.0</td>\n",
       "      <td>7.771236e-178</td>\n",
       "      <td>815.619435</td>\n",
       "      <td>True</td>\n",
       "    </tr>\n",
       "    <tr>\n",
       "      <th>PG</th>\n",
       "      <td>1431.0</td>\n",
       "      <td>2.930413e-21</td>\n",
       "      <td>94.558287</td>\n",
       "      <td>True</td>\n",
       "    </tr>\n",
       "    <tr>\n",
       "      <th>R</th>\n",
       "      <td>6090.0</td>\n",
       "      <td>0.000000e+00</td>\n",
       "      <td>1828.656935</td>\n",
       "      <td>True</td>\n",
       "    </tr>\n",
       "    <tr>\n",
       "      <th>NR</th>\n",
       "      <td>3263.0</td>\n",
       "      <td>2.338587e-43</td>\n",
       "      <td>196.323224</td>\n",
       "      <td>True</td>\n",
       "    </tr>\n",
       "    <tr>\n",
       "      <th>G</th>\n",
       "      <td>441.0</td>\n",
       "      <td>3.545863e-05</td>\n",
       "      <td>20.494288</td>\n",
       "      <td>True</td>\n",
       "    </tr>\n",
       "    <tr>\n",
       "      <th>NC-17</th>\n",
       "      <td>155.0</td>\n",
       "      <td>6.220999e-03</td>\n",
       "      <td>10.159649</td>\n",
       "      <td>True</td>\n",
       "    </tr>\n",
       "  </tbody>\n",
       "</table>\n",
       "</div>"
      ],
      "text/plain": [
       "            n              p    test stat   sig\n",
       "PG-13  3220.0  7.771236e-178   815.619435  True\n",
       "PG     1431.0   2.930413e-21    94.558287  True\n",
       "R      6090.0   0.000000e+00  1828.656935  True\n",
       "NR     3263.0   2.338587e-43   196.323224  True\n",
       "G       441.0   3.545863e-05    20.494288  True\n",
       "NC-17   155.0   6.220999e-03    10.159649  True"
      ]
     },
     "execution_count": 16,
     "metadata": {},
     "output_type": "execute_result"
    }
   ],
   "source": [
    "### checking sig with pandas \n",
    "norm_results_df['sig'] = norm_results_df['p'] < .05 \n",
    "norm_results_df"
   ]
  },
  {
   "cell_type": "code",
   "execution_count": 17,
   "id": "29b24a17",
   "metadata": {},
   "outputs": [
    {
     "data": {
      "text/plain": [
       "LeveneResult(statistic=44.022491217500615, pvalue=3.1267925560209396e-45)"
      ]
     },
     "execution_count": 17,
     "metadata": {},
     "output_type": "execute_result"
    }
   ],
   "source": [
    "# Test for Equal Variance\n",
    "# with the * operator \n",
    "stats.levene(*groups.values())"
   ]
  },
  {
   "cell_type": "code",
   "execution_count": 18,
   "id": "60a01b46",
   "metadata": {},
   "outputs": [
    {
     "data": {
      "text/plain": [
       "F_onewayResult(statistic=106.55223663379093, pvalue=7.37542999259362e-111)"
      ]
     },
     "execution_count": 18,
     "metadata": {},
     "output_type": "execute_result"
    }
   ],
   "source": [
    "# perform the correct hypothesis test\n",
    "# note again the use of the * operator for convenience\n",
    "result = stats.f_oneway( *groups.values())\n",
    "result"
   ]
  },
  {
   "cell_type": "code",
   "execution_count": 19,
   "id": "46b91726",
   "metadata": {},
   "outputs": [],
   "source": [
    "from statsmodels.stats.multicomp import pairwise_tukeyhsd\n",
    "## save the values as kg_lost and the labels to the Diet\n",
    "values = df['Year']\n",
    "labels = df['certification']"
   ]
  },
  {
   "cell_type": "code",
   "execution_count": 20,
   "id": "4e47e558",
   "metadata": {},
   "outputs": [
    {
     "data": {
      "text/html": [
       "<table class=\"simpletable\">\n",
       "<caption>Multiple Comparison of Means - Tukey HSD, FWER=0.05</caption>\n",
       "<tr>\n",
       "  <th>group1</th> <th>group2</th> <th>meandiff</th>  <th>p-adj</th>  <th>lower</th>   <th>upper</th>  <th>reject</th>\n",
       "</tr>\n",
       "<tr>\n",
       "     <td>G</td>    <td>NC-17</td>  <td>0.6913</td>  <td>0.7973</td> <td>-0.8507</td> <td>2.2333</td>   <td>False</td>\n",
       "</tr>\n",
       "<tr>\n",
       "     <td>G</td>     <td>NR</td>    <td>1.6954</td>    <td>0.0</td>  <td>0.8576</td>  <td>2.5332</td>   <td>True</td> \n",
       "</tr>\n",
       "<tr>\n",
       "     <td>G</td>     <td>PG</td>    <td>-0.3305</td> <td>0.9018</td> <td>-1.2299</td> <td>0.5689</td>   <td>False</td>\n",
       "</tr>\n",
       "<tr>\n",
       "     <td>G</td>    <td>PG-13</td>  <td>-0.7763</td> <td>0.0882</td> <td>-1.6148</td> <td>0.0622</td>   <td>False</td>\n",
       "</tr>\n",
       "<tr>\n",
       "     <td>G</td>      <td>R</td>    <td>-1.108</td>  <td>0.0015</td> <td>-1.9223</td> <td>-0.2937</td>  <td>True</td> \n",
       "</tr>\n",
       "<tr>\n",
       "   <td>NC-17</td>   <td>NR</td>    <td>1.0041</td>   <td>0.283</td> <td>-0.3535</td> <td>2.3616</td>   <td>False</td>\n",
       "</tr>\n",
       "<tr>\n",
       "   <td>NC-17</td>   <td>PG</td>    <td>-1.0218</td> <td>0.2948</td> <td>-2.4182</td> <td>0.3746</td>   <td>False</td>\n",
       "</tr>\n",
       "<tr>\n",
       "   <td>NC-17</td>  <td>PG-13</td>  <td>-1.4676</td> <td>0.0253</td> <td>-2.8255</td> <td>-0.1096</td>  <td>True</td> \n",
       "</tr>\n",
       "<tr>\n",
       "   <td>NC-17</td>    <td>R</td>    <td>-1.7993</td> <td>0.0019</td> <td>-3.1425</td> <td>-0.4561</td>  <td>True</td> \n",
       "</tr>\n",
       "<tr>\n",
       "    <td>NR</td>     <td>PG</td>    <td>-2.0259</td>   <td>0.0</td>  <td>-2.5495</td> <td>-1.5023</td>  <td>True</td> \n",
       "</tr>\n",
       "<tr>\n",
       "    <td>NR</td>    <td>PG-13</td>  <td>-2.4717</td>   <td>0.0</td>  <td>-2.8819</td> <td>-2.0615</td>  <td>True</td> \n",
       "</tr>\n",
       "<tr>\n",
       "    <td>NR</td>      <td>R</td>    <td>-2.8034</td>   <td>0.0</td>  <td>-3.1616</td> <td>-2.4451</td>  <td>True</td> \n",
       "</tr>\n",
       "<tr>\n",
       "    <td>PG</td>    <td>PG-13</td>  <td>-0.4458</td> <td>0.1487</td> <td>-0.9704</td> <td>0.0789</td>   <td>False</td>\n",
       "</tr>\n",
       "<tr>\n",
       "    <td>PG</td>      <td>R</td>    <td>-0.7775</td> <td>0.0001</td> <td>-1.2626</td> <td>-0.2924</td>  <td>True</td> \n",
       "</tr>\n",
       "<tr>\n",
       "   <td>PG-13</td>    <td>R</td>    <td>-0.3317</td> <td>0.0907</td> <td>-0.6915</td> <td>0.0281</td>   <td>False</td>\n",
       "</tr>\n",
       "</table>"
      ],
      "text/plain": [
       "<class 'statsmodels.iolib.table.SimpleTable'>"
      ]
     },
     "execution_count": 20,
     "metadata": {},
     "output_type": "execute_result"
    }
   ],
   "source": [
    "## perform tukey's multiple comparison test and display the summary\n",
    "tukeys_results = pairwise_tukeyhsd(values,labels)\n",
    "tukeys_results.summary()"
   ]
  },
  {
   "cell_type": "markdown",
   "id": "f61d7298",
   "metadata": {},
   "source": [
    "Final Conclusion: p<alpha for the majority of the final test. We reject the null hypothesis and support the alternative hypothesis The year a movie potentially affects the MPAA Rating."
   ]
  },
  {
   "cell_type": "code",
   "execution_count": 21,
   "id": "04f7293e",
   "metadata": {},
   "outputs": [
    {
     "data": {
      "image/png": "[encoded data removed]",
      "text/plain": [
       "<Figure size 640x480 with 1 Axes>"
      ]
     },
     "metadata": {},
     "output_type": "display_data"
    }
   ],
   "source": [
    "ax = sns.histplot(data=df, x='Year', hue='certification')\n",
    "ax.set_title(\"Year based on certification\");"
   ]
  },
  {
   "cell_type": "code",
   "execution_count": null,
   "id": "79a0f9ae",
   "metadata": {},
   "outputs": [],
   "source": []
  },
  {
   "cell_type": "markdown",
   "id": "6f7d9e2e",
   "metadata": {},
   "source": [
    "# Question 3:\n",
    "3. Do PG movies have longer runtime than others?\n",
    "- Null hypothesis: PG movies do not have longer runtime compared to all others.\n",
    "- Alternate hypothesis: PG movies have longer runtimes than all others.\n"
   ]
  },
  {
   "cell_type": "markdown",
   "id": "0da4279d",
   "metadata": {},
   "source": [
    "- Determine the correct test to perform.\n",
    "- Type of Data? numeric\n",
    "- How many groups/samples? 6\n",
    "- Therefore, which test is appropriate? ANOVA and/or Tukey"
   ]
  },
  {
   "cell_type": "code",
   "execution_count": 22,
   "id": "9d502c02",
   "metadata": {},
   "outputs": [
    {
     "data": {
      "text/plain": [
       "False    9949\n",
       "True     4651\n",
       "Name: is_pg, dtype: int64"
      ]
     },
     "execution_count": 22,
     "metadata": {},
     "output_type": "execute_result"
    }
   ],
   "source": [
    "## create a column that easily separates our groups\n",
    "df['is_pg'] = df['certification'].str.contains('PG')\n",
    "df['is_pg'].value_counts()"
   ]
  },
  {
   "cell_type": "code",
   "execution_count": 23,
   "id": "2bedac4d",
   "metadata": {},
   "outputs": [
    {
     "data": {
      "text/html": [
       "<div>\n",
       "<style scoped>\n",
       "    .dataframe tbody tr th:only-of-type {\n",
       "        vertical-align: middle;\n",
       "    }\n",
       "\n",
       "    .dataframe tbody tr th {\n",
       "        vertical-align: top;\n",
       "    }\n",
       "\n",
       "    .dataframe thead th {\n",
       "        text-align: right;\n",
       "    }\n",
       "</style>\n",
       "<table border=\"1\" class=\"dataframe\">\n",
       "  <thead>\n",
       "    <tr style=\"text-align: right;\">\n",
       "      <th></th>\n",
       "      <th>runtime</th>\n",
       "      <th>is_pg</th>\n",
       "    </tr>\n",
       "  </thead>\n",
       "  <tbody>\n",
       "    <tr>\n",
       "      <th>1</th>\n",
       "      <td>90.0</td>\n",
       "      <td>True</td>\n",
       "    </tr>\n",
       "    <tr>\n",
       "      <th>4</th>\n",
       "      <td>100.0</td>\n",
       "      <td>True</td>\n",
       "    </tr>\n",
       "    <tr>\n",
       "      <th>6</th>\n",
       "      <td>92.0</td>\n",
       "      <td>False</td>\n",
       "    </tr>\n",
       "    <tr>\n",
       "      <th>7</th>\n",
       "      <td>112.0</td>\n",
       "      <td>False</td>\n",
       "    </tr>\n",
       "    <tr>\n",
       "      <th>8</th>\n",
       "      <td>95.0</td>\n",
       "      <td>False</td>\n",
       "    </tr>\n",
       "    <tr>\n",
       "      <th>...</th>\n",
       "      <td>...</td>\n",
       "      <td>...</td>\n",
       "    </tr>\n",
       "    <tr>\n",
       "      <th>60070</th>\n",
       "      <td>161.0</td>\n",
       "      <td>True</td>\n",
       "    </tr>\n",
       "    <tr>\n",
       "      <th>60118</th>\n",
       "      <td>93.0</td>\n",
       "      <td>True</td>\n",
       "    </tr>\n",
       "    <tr>\n",
       "      <th>60119</th>\n",
       "      <td>70.0</td>\n",
       "      <td>False</td>\n",
       "    </tr>\n",
       "    <tr>\n",
       "      <th>60125</th>\n",
       "      <td>77.0</td>\n",
       "      <td>True</td>\n",
       "    </tr>\n",
       "    <tr>\n",
       "      <th>60127</th>\n",
       "      <td>61.0</td>\n",
       "      <td>False</td>\n",
       "    </tr>\n",
       "  </tbody>\n",
       "</table>\n",
       "<p>14600 rows × 2 columns</p>\n",
       "</div>"
      ],
      "text/plain": [
       "       runtime  is_pg\n",
       "1         90.0   True\n",
       "4        100.0   True\n",
       "6         92.0  False\n",
       "7        112.0  False\n",
       "8         95.0  False\n",
       "...        ...    ...\n",
       "60070    161.0   True\n",
       "60118     93.0   True\n",
       "60119     70.0  False\n",
       "60125     77.0   True\n",
       "60127     61.0  False\n",
       "\n",
       "[14600 rows x 2 columns]"
      ]
     },
     "execution_count": 23,
     "metadata": {},
     "output_type": "execute_result"
    }
   ],
   "source": [
    "## save list of columns needed for each group\n",
    "needed_cols = ['runtime','is_pg']\n",
    "df[needed_cols]"
   ]
  },
  {
   "cell_type": "code",
   "execution_count": 24,
   "id": "f2bfe5c0",
   "metadata": {},
   "outputs": [
    {
     "data": {
      "text/html": [
       "<div>\n",
       "<style scoped>\n",
       "    .dataframe tbody tr th:only-of-type {\n",
       "        vertical-align: middle;\n",
       "    }\n",
       "\n",
       "    .dataframe tbody tr th {\n",
       "        vertical-align: top;\n",
       "    }\n",
       "\n",
       "    .dataframe thead th {\n",
       "        text-align: right;\n",
       "    }\n",
       "</style>\n",
       "<table border=\"1\" class=\"dataframe\">\n",
       "  <thead>\n",
       "    <tr style=\"text-align: right;\">\n",
       "      <th></th>\n",
       "      <th>runtime</th>\n",
       "      <th>is_pg</th>\n",
       "    </tr>\n",
       "  </thead>\n",
       "  <tbody>\n",
       "    <tr>\n",
       "      <th>6</th>\n",
       "      <td>92.0</td>\n",
       "      <td>False</td>\n",
       "    </tr>\n",
       "    <tr>\n",
       "      <th>7</th>\n",
       "      <td>112.0</td>\n",
       "      <td>False</td>\n",
       "    </tr>\n",
       "    <tr>\n",
       "      <th>8</th>\n",
       "      <td>95.0</td>\n",
       "      <td>False</td>\n",
       "    </tr>\n",
       "    <tr>\n",
       "      <th>11</th>\n",
       "      <td>103.0</td>\n",
       "      <td>False</td>\n",
       "    </tr>\n",
       "    <tr>\n",
       "      <th>15</th>\n",
       "      <td>98.0</td>\n",
       "      <td>False</td>\n",
       "    </tr>\n",
       "    <tr>\n",
       "      <th>...</th>\n",
       "      <td>...</td>\n",
       "      <td>...</td>\n",
       "    </tr>\n",
       "    <tr>\n",
       "      <th>60018</th>\n",
       "      <td>69.0</td>\n",
       "      <td>False</td>\n",
       "    </tr>\n",
       "    <tr>\n",
       "      <th>60066</th>\n",
       "      <td>48.0</td>\n",
       "      <td>False</td>\n",
       "    </tr>\n",
       "    <tr>\n",
       "      <th>60069</th>\n",
       "      <td>0.0</td>\n",
       "      <td>False</td>\n",
       "    </tr>\n",
       "    <tr>\n",
       "      <th>60119</th>\n",
       "      <td>70.0</td>\n",
       "      <td>False</td>\n",
       "    </tr>\n",
       "    <tr>\n",
       "      <th>60127</th>\n",
       "      <td>61.0</td>\n",
       "      <td>False</td>\n",
       "    </tr>\n",
       "  </tbody>\n",
       "</table>\n",
       "<p>9949 rows × 2 columns</p>\n",
       "</div>"
      ],
      "text/plain": [
       "       runtime  is_pg\n",
       "6         92.0  False\n",
       "7        112.0  False\n",
       "8         95.0  False\n",
       "11       103.0  False\n",
       "15        98.0  False\n",
       "...        ...    ...\n",
       "60018     69.0  False\n",
       "60066     48.0  False\n",
       "60069      0.0  False\n",
       "60119     70.0  False\n",
       "60127     61.0  False\n",
       "\n",
       "[9949 rows x 2 columns]"
      ]
     },
     "execution_count": 24,
     "metadata": {},
     "output_type": "execute_result"
    }
   ],
   "source": [
    "## save non_pg in separate variable\n",
    "non_pg = df.loc[ df['is_pg']==False, needed_cols]\n",
    "non_pg"
   ]
  },
  {
   "cell_type": "code",
   "execution_count": 25,
   "id": "c1618962",
   "metadata": {},
   "outputs": [
    {
     "data": {
      "text/html": [
       "<div>\n",
       "<style scoped>\n",
       "    .dataframe tbody tr th:only-of-type {\n",
       "        vertical-align: middle;\n",
       "    }\n",
       "\n",
       "    .dataframe tbody tr th {\n",
       "        vertical-align: top;\n",
       "    }\n",
       "\n",
       "    .dataframe thead th {\n",
       "        text-align: right;\n",
       "    }\n",
       "</style>\n",
       "<table border=\"1\" class=\"dataframe\">\n",
       "  <thead>\n",
       "    <tr style=\"text-align: right;\">\n",
       "      <th></th>\n",
       "      <th>runtime</th>\n",
       "      <th>is_pg</th>\n",
       "    </tr>\n",
       "  </thead>\n",
       "  <tbody>\n",
       "    <tr>\n",
       "      <th>1</th>\n",
       "      <td>90.0</td>\n",
       "      <td>True</td>\n",
       "    </tr>\n",
       "    <tr>\n",
       "      <th>4</th>\n",
       "      <td>100.0</td>\n",
       "      <td>True</td>\n",
       "    </tr>\n",
       "    <tr>\n",
       "      <th>9</th>\n",
       "      <td>114.0</td>\n",
       "      <td>True</td>\n",
       "    </tr>\n",
       "    <tr>\n",
       "      <th>10</th>\n",
       "      <td>117.0</td>\n",
       "      <td>True</td>\n",
       "    </tr>\n",
       "    <tr>\n",
       "      <th>14</th>\n",
       "      <td>112.0</td>\n",
       "      <td>True</td>\n",
       "    </tr>\n",
       "    <tr>\n",
       "      <th>...</th>\n",
       "      <td>...</td>\n",
       "      <td>...</td>\n",
       "    </tr>\n",
       "    <tr>\n",
       "      <th>59952</th>\n",
       "      <td>98.0</td>\n",
       "      <td>True</td>\n",
       "    </tr>\n",
       "    <tr>\n",
       "      <th>60034</th>\n",
       "      <td>90.0</td>\n",
       "      <td>True</td>\n",
       "    </tr>\n",
       "    <tr>\n",
       "      <th>60070</th>\n",
       "      <td>161.0</td>\n",
       "      <td>True</td>\n",
       "    </tr>\n",
       "    <tr>\n",
       "      <th>60118</th>\n",
       "      <td>93.0</td>\n",
       "      <td>True</td>\n",
       "    </tr>\n",
       "    <tr>\n",
       "      <th>60125</th>\n",
       "      <td>77.0</td>\n",
       "      <td>True</td>\n",
       "    </tr>\n",
       "  </tbody>\n",
       "</table>\n",
       "<p>4651 rows × 2 columns</p>\n",
       "</div>"
      ],
      "text/plain": [
       "       runtime  is_pg\n",
       "1         90.0   True\n",
       "4        100.0   True\n",
       "9        114.0   True\n",
       "10       117.0   True\n",
       "14       112.0   True\n",
       "...        ...    ...\n",
       "59952     98.0   True\n",
       "60034     90.0   True\n",
       "60070    161.0   True\n",
       "60118     93.0   True\n",
       "60125     77.0   True\n",
       "\n",
       "[4651 rows x 2 columns]"
      ]
     },
     "execution_count": 25,
     "metadata": {},
     "output_type": "execute_result"
    }
   ],
   "source": [
    "## save PG in separate variables\n",
    "pg = df.loc[ df['is_pg']==True, needed_cols]\n",
    "pg"
   ]
  },
  {
   "cell_type": "code",
   "execution_count": 26,
   "id": "18b3ddee",
   "metadata": {},
   "outputs": [
    {
     "data": {
      "text/html": [
       "<div>\n",
       "<style scoped>\n",
       "    .dataframe tbody tr th:only-of-type {\n",
       "        vertical-align: middle;\n",
       "    }\n",
       "\n",
       "    .dataframe tbody tr th {\n",
       "        vertical-align: top;\n",
       "    }\n",
       "\n",
       "    .dataframe thead th {\n",
       "        text-align: right;\n",
       "    }\n",
       "</style>\n",
       "<table border=\"1\" class=\"dataframe\">\n",
       "  <thead>\n",
       "    <tr style=\"text-align: right;\">\n",
       "      <th></th>\n",
       "      <th>runtime</th>\n",
       "      <th>is_pg</th>\n",
       "    </tr>\n",
       "  </thead>\n",
       "  <tbody>\n",
       "    <tr>\n",
       "      <th>6</th>\n",
       "      <td>92.0</td>\n",
       "      <td>False</td>\n",
       "    </tr>\n",
       "    <tr>\n",
       "      <th>7</th>\n",
       "      <td>112.0</td>\n",
       "      <td>False</td>\n",
       "    </tr>\n",
       "    <tr>\n",
       "      <th>8</th>\n",
       "      <td>95.0</td>\n",
       "      <td>False</td>\n",
       "    </tr>\n",
       "    <tr>\n",
       "      <th>11</th>\n",
       "      <td>103.0</td>\n",
       "      <td>False</td>\n",
       "    </tr>\n",
       "    <tr>\n",
       "      <th>15</th>\n",
       "      <td>98.0</td>\n",
       "      <td>False</td>\n",
       "    </tr>\n",
       "    <tr>\n",
       "      <th>...</th>\n",
       "      <td>...</td>\n",
       "      <td>...</td>\n",
       "    </tr>\n",
       "    <tr>\n",
       "      <th>59952</th>\n",
       "      <td>98.0</td>\n",
       "      <td>True</td>\n",
       "    </tr>\n",
       "    <tr>\n",
       "      <th>60034</th>\n",
       "      <td>90.0</td>\n",
       "      <td>True</td>\n",
       "    </tr>\n",
       "    <tr>\n",
       "      <th>60070</th>\n",
       "      <td>161.0</td>\n",
       "      <td>True</td>\n",
       "    </tr>\n",
       "    <tr>\n",
       "      <th>60118</th>\n",
       "      <td>93.0</td>\n",
       "      <td>True</td>\n",
       "    </tr>\n",
       "    <tr>\n",
       "      <th>60125</th>\n",
       "      <td>77.0</td>\n",
       "      <td>True</td>\n",
       "    </tr>\n",
       "  </tbody>\n",
       "</table>\n",
       "<p>14600 rows × 2 columns</p>\n",
       "</div>"
      ],
      "text/plain": [
       "       runtime  is_pg\n",
       "6         92.0  False\n",
       "7        112.0  False\n",
       "8         95.0  False\n",
       "11       103.0  False\n",
       "15        98.0  False\n",
       "...        ...    ...\n",
       "59952     98.0   True\n",
       "60034     90.0   True\n",
       "60070    161.0   True\n",
       "60118     93.0   True\n",
       "60125     77.0   True\n",
       "\n",
       "[14600 rows x 2 columns]"
      ]
     },
     "execution_count": 26,
     "metadata": {},
     "output_type": "execute_result"
    }
   ],
   "source": [
    "## Make a df just for visualization by concat the groups \n",
    "plot_df =  pd.concat([non_pg,pg])\n",
    "plot_df"
   ]
  },
  {
   "cell_type": "code",
   "execution_count": 27,
   "id": "e286f563",
   "metadata": {},
   "outputs": [
    {
     "data": {
      "text/plain": [
       "6         92.0\n",
       "7        112.0\n",
       "8         95.0\n",
       "11       103.0\n",
       "15        98.0\n",
       "         ...  \n",
       "60018     69.0\n",
       "60066     48.0\n",
       "60069      0.0\n",
       "60119     70.0\n",
       "60127     61.0\n",
       "Name: runtime, Length: 9949, dtype: float64"
      ]
     },
     "execution_count": 27,
     "metadata": {},
     "output_type": "execute_result"
    }
   ],
   "source": [
    "# Testing Assumption\n",
    "## Saving JUST the numeric col as final group variables\n",
    "pg_group = pg['runtime']\n",
    "non_pg_group =  non_pg['runtime']\n",
    "non_pg_group"
   ]
  },
  {
   "cell_type": "code",
   "execution_count": 28,
   "id": "78f8145b",
   "metadata": {},
   "outputs": [
    {
     "data": {
      "text/plain": [
       "False    9751\n",
       "True      198\n",
       "Name: runtime, dtype: int64"
      ]
     },
     "execution_count": 28,
     "metadata": {},
     "output_type": "execute_result"
    }
   ],
   "source": [
    "## Check non_pg_group for outliers\n",
    "non_pg_outliers = np.abs(stats.zscore(non_pg_group))>3\n",
    "\n",
    "## how many outliers?\n",
    "non_pg_outliers.value_counts()"
   ]
  },
  {
   "cell_type": "code",
   "execution_count": 29,
   "id": "775f04da",
   "metadata": {},
   "outputs": [],
   "source": [
    "## remove outliers from non_pg_group\n",
    "non_pg_group = non_pg_group[~non_pg_outliers]"
   ]
  },
  {
   "cell_type": "code",
   "execution_count": null,
   "id": "e9cd0daf",
   "metadata": {},
   "outputs": [],
   "source": []
  },
  {
   "cell_type": "code",
   "execution_count": 30,
   "id": "52dc4169",
   "metadata": {},
   "outputs": [
    {
     "data": {
      "text/plain": [
       "False    4565\n",
       "True       86\n",
       "Name: runtime, dtype: int64"
      ]
     },
     "execution_count": 30,
     "metadata": {},
     "output_type": "execute_result"
    }
   ],
   "source": [
    "## Check pg_group for outliers\n",
    "pg_outliers = np.abs(stats.zscore(pg_group))>3\n",
    "\n",
    "## how many outliers?\n",
    "pg_outliers.value_counts()"
   ]
  },
  {
   "cell_type": "code",
   "execution_count": 31,
   "id": "946163f9",
   "metadata": {},
   "outputs": [],
   "source": [
    "## remove outliers from pg_group\n",
    "pg_group = pg_group[~pg_outliers]"
   ]
  },
  {
   "cell_type": "code",
   "execution_count": null,
   "id": "d53779eb",
   "metadata": {},
   "outputs": [],
   "source": []
  },
  {
   "cell_type": "code",
   "execution_count": 32,
   "id": "07cc0e14",
   "metadata": {},
   "outputs": [
    {
     "data": {
      "text/plain": [
       "NormaltestResult(statistic=707.3522138005169, pvalue=2.514307507795894e-154)"
      ]
     },
     "execution_count": 32,
     "metadata": {},
     "output_type": "execute_result"
    }
   ],
   "source": [
    "## Check non_pg_group for normality\n",
    "result = stats.normaltest(non_pg_group)\n",
    "result"
   ]
  },
  {
   "cell_type": "code",
   "execution_count": 33,
   "id": "ac8f3ec0",
   "metadata": {},
   "outputs": [
    {
     "data": {
      "text/plain": [
       "9751"
      ]
     },
     "execution_count": 33,
     "metadata": {},
     "output_type": "execute_result"
    }
   ],
   "source": [
    "## Check n for non_pg_group\n",
    "len(non_pg_group)"
   ]
  },
  {
   "cell_type": "code",
   "execution_count": 34,
   "id": "bf211e24",
   "metadata": {},
   "outputs": [
    {
     "data": {
      "text/plain": [
       "NormaltestResult(statistic=380.31952247691646, pvalue=2.5981547461626144e-83)"
      ]
     },
     "execution_count": 34,
     "metadata": {},
     "output_type": "execute_result"
    }
   ],
   "source": [
    "## Check pg_group for normality\n",
    "result = stats.normaltest(pg_group)\n",
    "result"
   ]
  },
  {
   "cell_type": "code",
   "execution_count": 35,
   "id": "baef1f8f",
   "metadata": {},
   "outputs": [
    {
     "data": {
      "text/plain": [
       "4565"
      ]
     },
     "execution_count": 35,
     "metadata": {},
     "output_type": "execute_result"
    }
   ],
   "source": [
    "## Check n for pg_group\n",
    "len(pg_group)"
   ]
  },
  {
   "cell_type": "code",
   "execution_count": null,
   "id": "cc45d9d4",
   "metadata": {},
   "outputs": [],
   "source": []
  },
  {
   "cell_type": "code",
   "execution_count": 36,
   "id": "c3284b6f",
   "metadata": {},
   "outputs": [
    {
     "data": {
      "text/plain": [
       "True"
      ]
     },
     "execution_count": 36,
     "metadata": {},
     "output_type": "execute_result"
    }
   ],
   "source": [
    "# Test for equal variance\n",
    "## Use Levene's test for equal variance\n",
    "result = stats.levene(pg_group,non_pg_group)\n",
    "result\n",
    "result.pvalue<.05"
   ]
  },
  {
   "cell_type": "code",
   "execution_count": 37,
   "id": "74b451e0",
   "metadata": {},
   "outputs": [
    {
     "name": "stdout",
     "output_type": "stream",
     "text": [
      "The groups DO NOT have equal variance\n"
     ]
    }
   ],
   "source": [
    "# Use an if-else to help interpret the p-value\n",
    "if result.pvalue <.05:\n",
    "    print('The groups DO NOT have equal variance')\n",
    "else:\n",
    "    print('The groups DO have equal variance')"
   ]
  },
  {
   "cell_type": "code",
   "execution_count": null,
   "id": "9c2908c1",
   "metadata": {},
   "outputs": [],
   "source": []
  },
  {
   "cell_type": "code",
   "execution_count": 38,
   "id": "419760e0",
   "metadata": {},
   "outputs": [
    {
     "data": {
      "text/plain": [
       "Ttest_indResult(statistic=18.95644300567393, pvalue=1.636760605973291e-78)"
      ]
     },
     "execution_count": 38,
     "metadata": {},
     "output_type": "execute_result"
    }
   ],
   "source": [
    "#Final Hypothesis Test\n",
    "result = stats.ttest_ind(pg_group,non_pg_group,equal_var=False)\n",
    "result"
   ]
  },
  {
   "cell_type": "code",
   "execution_count": 39,
   "id": "1b29517c",
   "metadata": {},
   "outputs": [
    {
     "data": {
      "text/plain": [
       "(96.31155778894473, 102.0039430449069)"
      ]
     },
     "execution_count": 39,
     "metadata": {},
     "output_type": "execute_result"
    }
   ],
   "source": [
    "## calcualte group means to know which group had more/less.\n",
    "non_pg_group.mean(),pg_group.mean()"
   ]
  },
  {
   "cell_type": "markdown",
   "id": "be00e7e9",
   "metadata": {},
   "source": [
    "Final Conclusion: p<alpha for final t test. We reject the null hypothesis and support the alternative hypothesis that PG rated movies have longer runtime than others."
   ]
  },
  {
   "cell_type": "code",
   "execution_count": 40,
   "id": "22a10ffa",
   "metadata": {},
   "outputs": [
    {
     "data": {
      "image/png": "[encoded data removed]",
      "text/plain": [
       "<Figure size 1500x800 with 1 Axes>"
      ]
     },
     "metadata": {},
     "output_type": "display_data"
    }
   ],
   "source": [
    "plt.figure(figsize=(15,8))\n",
    "ax = sns.barplot(data=plot_df, x='runtime', hue='is_pg')\n",
    "ax.set_xlim(0,200)\n",
    "ax.set_title(\"Outcome of Runtimes for PG Movies\");"
   ]
  },
  {
   "cell_type": "code",
   "execution_count": null,
   "id": "c3ba49b9",
   "metadata": {},
   "outputs": [],
   "source": []
  }
 ],
 "metadata": {
  "kernelspec": {
   "display_name": "Python (dojo-env)",
   "language": "python",
   "name": "dojo-env"
  },
  "language_info": {
   "codemirror_mode": {
    "name": "ipython",
    "version": 3
   },
   "file_extension": ".py",
   "mimetype": "text/x-python",
   "name": "python",
   "nbconvert_exporter": "python",
   "pygments_lexer": "ipython3",
   "version": "3.9.15"
  },
  "toc": {
   "base_numbering": 1,
   "nav_menu": {},
   "number_sections": false,
   "sideBar": true,
   "skip_h1_title": false,
   "title_cell": "Table of Contents",
   "title_sidebar": "Contents",
   "toc_cell": false,
   "toc_position": {},
   "toc_section_display": true,
   "toc_window_display": true
  }
 },
 "nbformat": 4,
 "nbformat_minor": 5
}
